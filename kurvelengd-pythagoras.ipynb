{
 "cells": [
  {
   "cell_type": "markdown",
   "id": "74202e39-21dd-4382-b160-0d1b456eac01",
   "metadata": {},
   "source": [
    "# Approksimasjon av lengde\n",
    "\n",
    "I det følgjande skal me sjå på korleis det enkle teoremet til Pytagoras kan nyttast for å approksimera lengden av eit segment på ein graf.\n",
    "\n",
    "$$a^2 + b^2 = c^2$$ der $a$ og $b$ er katetar i ein rettvinkla trekant og $c$ er hypotenusen i samme trekant. \n",
    "\n",
    "Me skal sjå på ein tredjegradsfunksjon, men tankegongen her kan nyttast på dei fleste funksjonar. Tanken er at me skal dela opp grafen i små hypotenusar som me finn lengda av. Animasjonen under viser kor nøyaktig denne approksimasjonen vert, sjølv når $x$ ikkje er mindre enn 0.25. Med programmering kan me enkelt rekna ut og summera hypotenusar med katet med særs litan sidelengd - og dermed få ein ganske nøyaktig approksimasjon. \n",
    "\n",
    "<center>\n",
    "    <img src=https://github.com/lektorodd/kule-ting/blob/main/kurvelengd.gif?raw=true width=\"600\"></center>\n",
    "\n",
    "Me kallar den horisontale kateten i trekantane for $\\Delta x = x_2 - x_1$.\n",
    "\n",
    "Den vertikale kateten vert då $\\Delta f(x) = f(x_2)-f(x_1)$\n",
    "\n",
    "Kallar me hypotenusen for $l$ har me at\n",
    "\\begin{align}\n",
    "    l^2 &= (\\Delta x)^2 + (\\Delta f(x))^2 \\\\\n",
    "    l &= \\sqrt{(\\Delta x)^2 + (\\Delta f(x))^2}\n",
    "\\end{align}\n",
    "\n",
    "### Døme\n",
    "\n",
    "I dømet under skal me approksimera lengda på grafen til $f(x)$ mellom $x=0$ og $x=5$ når \n",
    "\n",
    "$$f(x) = \\frac{1}{4}x^3 - \\frac{9}{4}x^2 + 5x + 1$$\n",
    "\n",
    "Startar med å bestemma start og sluttverdi samt steglengd. I tillegg allokkerer me ein tom variabel til den akkumulerte lengda.  "
   ]
  },
  {
   "cell_type": "code",
   "execution_count": 1,
   "id": "8224eb9c-404c-4ebd-a62a-c598dcb22939",
   "metadata": {},
   "outputs": [],
   "source": [
    "import numpy as np\n",
    "\n",
    "x = 0\n",
    "x_slutt = 5\n",
    "dx = 0.001\n",
    "lengd = 0"
   ]
  },
  {
   "cell_type": "markdown",
   "id": "de8c0726-5cf0-4990-8336-ed8473d9b8d6",
   "metadata": {},
   "source": [
    "Definerer funksjonen me skal arbeida med. "
   ]
  },
  {
   "cell_type": "code",
   "execution_count": 2,
   "id": "02949848-8cb1-4e39-b401-a38e2d078fbe",
   "metadata": {},
   "outputs": [],
   "source": [
    "def f(x):\n",
    "    return (1/4)*x**3 - (9/4)*x**2 + 5*x + 1"
   ]
  },
  {
   "cell_type": "markdown",
   "id": "e3b5496f-8591-49e3-8e45-5af1d8b35364",
   "metadata": {},
   "source": [
    "Sjølve utrekninga av lengda. Finn lengda av den vertikale kateten og reknar ut hypotenusen. "
   ]
  },
  {
   "cell_type": "code",
   "execution_count": 3,
   "id": "2c6d4f55-a475-4b47-b908-8e810fa3b421",
   "metadata": {},
   "outputs": [
    {
     "name": "stdout",
     "output_type": "stream",
     "text": [
      "Kurvelengda er 9.165\n"
     ]
    }
   ],
   "source": [
    "while x < x_slutt:\n",
    "    df = f(x + dx) - f(x)\n",
    "    lengd += np.sqrt((dx)**2 + (df)**2)\n",
    "    x += dx\n",
    "\n",
    "print(\"Kurvelengda er\", round(lengd, 3))"
   ]
  },
  {
   "cell_type": "code",
   "execution_count": null,
   "id": "2f958680-2d57-4ce2-8dbe-d7073d85a81b",
   "metadata": {},
   "outputs": [],
   "source": []
  }
 ],
 "metadata": {
  "kernelspec": {
   "display_name": "Python 3 (ipykernel)",
   "language": "python",
   "name": "python3"
  },
  "language_info": {
   "codemirror_mode": {
    "name": "ipython",
    "version": 3
   },
   "file_extension": ".py",
   "mimetype": "text/x-python",
   "name": "python",
   "nbconvert_exporter": "python",
   "pygments_lexer": "ipython3",
   "version": "3.8.13"
  }
 },
 "nbformat": 4,
 "nbformat_minor": 5
}
